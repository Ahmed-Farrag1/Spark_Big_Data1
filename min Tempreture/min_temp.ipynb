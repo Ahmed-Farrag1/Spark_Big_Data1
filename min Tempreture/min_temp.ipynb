{
 "cells": [
  {
   "cell_type": "code",
   "execution_count": 20,
   "metadata": {},
   "outputs": [],
   "source": [
    "import pyspark\n",
    "from pyspark.sql import SparkSession\n",
    "from pyspark.sql import functions as func\n"
   ]
  },
  {
   "cell_type": "code",
   "execution_count": 21,
   "metadata": {},
   "outputs": [
    {
     "data": {
      "text/html": [
       "<table border='1'>\n",
       "<tr><th>id-station</th><th>min(temp)</th></tr>\n",
       "<tr><td>ITE00100554</td><td>-148</td></tr>\n",
       "<tr><td>EZE00100082</td><td>-135</td></tr>\n",
       "</table>\n"
      ],
      "text/plain": [
       "+-----------+---------+\n",
       "| id-station|min(temp)|\n",
       "+-----------+---------+\n",
       "|ITE00100554|     -148|\n",
       "|EZE00100082|     -135|\n",
       "+-----------+---------+"
      ]
     },
     "execution_count": 21,
     "metadata": {},
     "output_type": "execute_result"
    }
   ],
   "source": [
    "spark=SparkSession.builder.master(\"local\").appName(\"sql_df\").getOrCreate()\n",
    "spark.conf.set(\"spark.sql.repl.eagerEval.enabled\", True) # Property used to format output tables better\n",
    "read_csv=spark.read.csv(r\"C:\\Spark Course\\min Tempreture\\1800.csv\",header=False,inferSchema=\"true\")\n",
    "\n",
    "read_csv = read_csv.withColumnRenamed(\"_c0\", \"id-station\")\n",
    "read_csv = read_csv.withColumnRenamed(\"_c1\", \"time\")\n",
    "read_csv = read_csv.withColumnRenamed(\"_c2\", \"level\")\n",
    "read_csv = read_csv.withColumnRenamed(\"_c3\", \"temp\")\n",
    "read_csv=read_csv.select(\"id-station\",\"time\",\"level\",\"temp\")\n",
    "min =read_csv.filter(read_csv.level ==\"TMIN\")\n",
    "fin=min.groupBy(\"id-station\").min(\"temp\")\n",
    "fin"
   ]
  },
  {
   "cell_type": "code",
   "execution_count": 22,
   "metadata": {},
   "outputs": [
    {
     "name": "stdout",
     "output_type": "stream",
     "text": [
      "root\n",
      " |-- id-station: string (nullable = true)\n",
      " |-- time: integer (nullable = true)\n",
      " |-- level: string (nullable = true)\n",
      " |-- temp: integer (nullable = true)\n",
      "\n"
     ]
    }
   ],
   "source": [
    "read_csv.printSchema() "
   ]
  },
  {
   "cell_type": "code",
   "execution_count": 24,
   "metadata": {},
   "outputs": [],
   "source": [
    "x=fin.withColumn(\"new_temp\",func.round(func.col(\"min(temp)\")*.1*(9/5)+32,2))"
   ]
  },
  {
   "cell_type": "code",
   "execution_count": 26,
   "metadata": {},
   "outputs": [
    {
     "data": {
      "text/html": [
       "<table border='1'>\n",
       "<tr><th>id-station</th><th>min(temp)</th><th>new_temp</th></tr>\n",
       "<tr><td>ITE00100554</td><td>-148</td><td>5.36</td></tr>\n",
       "<tr><td>EZE00100082</td><td>-135</td><td>7.7</td></tr>\n",
       "</table>\n"
      ],
      "text/plain": [
       "+-----------+---------+--------+\n",
       "| id-station|min(temp)|new_temp|\n",
       "+-----------+---------+--------+\n",
       "|ITE00100554|     -148|    5.36|\n",
       "|EZE00100082|     -135|     7.7|\n",
       "+-----------+---------+--------+"
      ]
     },
     "execution_count": 26,
     "metadata": {},
     "output_type": "execute_result"
    }
   ],
   "source": [
    "x"
   ]
  },
  {
   "cell_type": "code",
   "execution_count": 25,
   "metadata": {},
   "outputs": [
    {
     "name": "stdout",
     "output_type": "stream",
     "text": [
      "Row(id-station='ITE00100554', min(temp)=-148, new_temp=5.36)\n",
      "Row(id-station='EZE00100082', min(temp)=-135, new_temp=7.7)\n"
     ]
    }
   ],
   "source": [
    "for i in x.collect():\n",
    "    print(i)"
   ]
  }
 ],
 "metadata": {
  "kernelspec": {
   "display_name": "Python 3.9.6 64-bit (microsoft store)",
   "language": "python",
   "name": "python3"
  },
  "language_info": {
   "codemirror_mode": {
    "name": "ipython",
    "version": 3
   },
   "file_extension": ".py",
   "mimetype": "text/x-python",
   "name": "python",
   "nbconvert_exporter": "python",
   "pygments_lexer": "ipython3",
   "version": "3.9.6"
  },
  "orig_nbformat": 4,
  "vscode": {
   "interpreter": {
    "hash": "bfecb14731bbe8f1f11884de35213655c02bb76927514ea00d9143e5b9a0a10a"
   }
  }
 },
 "nbformat": 4,
 "nbformat_minor": 2
}
