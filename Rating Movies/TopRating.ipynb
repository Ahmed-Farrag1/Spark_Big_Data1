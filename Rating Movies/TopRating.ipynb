{
 "cells": [
  {
   "cell_type": "code",
   "execution_count": 1,
   "metadata": {},
   "outputs": [],
   "source": [
    "import pyspark\n",
    "from pyspark.sql import SparkSession\n",
    "from pyspark.sql.types import  StructType,StructField,StringType,IntegerType,FloatType , LongType\n",
    "from pyspark.sql import functions as func"
   ]
  },
  {
   "cell_type": "code",
   "execution_count": 2,
   "metadata": {},
   "outputs": [],
   "source": [
    "spark= SparkSession.builder.appName(\"Movies-Rating\").getOrCreate()\n",
    "spark.conf.set(\"spark.sql.repl.eagerEval.enabled\", True) # Property used to format output tables better"
   ]
  },
  {
   "cell_type": "code",
   "execution_count": 3,
   "metadata": {},
   "outputs": [],
   "source": [
    "schema = StructType([StructField(\"user_id\",IntegerType(),True),StructField(\"Movie_id\",IntegerType(),True),StructField(\"rating\",IntegerType(),True),StructField(\"time\",LongType(),True)])\n",
    "\n",
    "txt=spark.read.option(\"sep\",\"\\t\").schema(schema).csv(r\"C:\\Spark Course\\Rating Movies\\ml-100k\\ml-100k\\u.data\")"
   ]
  },
  {
   "cell_type": "code",
   "execution_count": 4,
   "metadata": {},
   "outputs": [
    {
     "name": "stdout",
     "output_type": "stream",
     "text": [
      "+--------+-----+\n",
      "|Movie_id|count|\n",
      "+--------+-----+\n",
      "|      50|  583|\n",
      "|     258|  509|\n",
      "|     100|  508|\n",
      "|     181|  507|\n",
      "|     294|  485|\n",
      "|     286|  481|\n",
      "|     288|  478|\n",
      "|       1|  452|\n",
      "|     300|  431|\n",
      "|     121|  429|\n",
      "|     174|  420|\n",
      "|     127|  413|\n",
      "|      56|  394|\n",
      "|       7|  392|\n",
      "|      98|  390|\n",
      "|     237|  384|\n",
      "|     117|  378|\n",
      "|     172|  367|\n",
      "|     222|  365|\n",
      "|     204|  350|\n",
      "+--------+-----+\n",
      "only showing top 20 rows\n",
      "\n"
     ]
    }
   ],
   "source": [
    "ratings=txt.groupBy(\"Movie_id\").count().sort(func.desc(\"count\"))\n",
    "ratings.show()\n"
   ]
  },
  {
   "cell_type": "code",
   "execution_count": 5,
   "metadata": {},
   "outputs": [],
   "source": [
    "import codecs\n",
    "def dict_func():\n",
    "    dicty={}\n",
    "    with open(r\"C:\\Spark Course\\Rating Movies\\ml-100k\\ml-100k\\u.item\",\"r\",encoding='ISO-8859-1',errors=\"ignore\") as f:\n",
    "        for i in f:\n",
    "            fields=i.split(\"|\")\n",
    "            dicty[int(fields[0])]=fields[1]\n",
    "    return dicty"
   ]
  },
  {
   "cell_type": "code",
   "execution_count": 6,
   "metadata": {},
   "outputs": [],
   "source": [
    "broodcast=spark.sparkContext.broadcast(dict_func())\n"
   ]
  },
  {
   "cell_type": "code",
   "execution_count": 7,
   "metadata": {},
   "outputs": [],
   "source": [
    "def lookup(movie_id):\n",
    "    return broodcast.value[movie_id]\n",
    "\n"
   ]
  },
  {
   "cell_type": "code",
   "execution_count": 8,
   "metadata": {},
   "outputs": [
    {
     "name": "stdout",
     "output_type": "stream",
     "text": [
      "+--------+-----+-----------------------------+\n",
      "|Movie_id|count|film_name                    |\n",
      "+--------+-----+-----------------------------+\n",
      "|50      |583  |Star Wars (1977)             |\n",
      "|258     |509  |Contact (1997)               |\n",
      "|100     |508  |Fargo (1996)                 |\n",
      "|181     |507  |Return of the Jedi (1983)    |\n",
      "|294     |485  |Liar Liar (1997)             |\n",
      "|286     |481  |English Patient, The (1996)  |\n",
      "|288     |478  |Scream (1996)                |\n",
      "|1       |452  |Toy Story (1995)             |\n",
      "|300     |431  |Air Force One (1997)         |\n",
      "|121     |429  |Independence Day (ID4) (1996)|\n",
      "+--------+-----+-----------------------------+\n",
      "only showing top 10 rows\n",
      "\n"
     ]
    }
   ],
   "source": [
    "Lookup_udf =func.udf(lookup)\n",
    "\n",
    "final=ratings.withColumn(\"film_name\",Lookup_udf(func.col(\"Movie_id\")))\n",
    "final.show(10,False)\n"
   ]
  },
  {
   "cell_type": "code",
   "execution_count": 9,
   "metadata": {},
   "outputs": [],
   "source": [
    "spark.stop()"
   ]
  }
 ],
 "metadata": {
  "kernelspec": {
   "display_name": "Python 3.11.4 64-bit",
   "language": "python",
   "name": "python3"
  },
  "language_info": {
   "codemirror_mode": {
    "name": "ipython",
    "version": 3
   },
   "file_extension": ".py",
   "mimetype": "text/x-python",
   "name": "python",
   "nbconvert_exporter": "python",
   "pygments_lexer": "ipython3",
   "version": "3.11.4"
  },
  "orig_nbformat": 4,
  "vscode": {
   "interpreter": {
    "hash": "d75ab5a1818d779aa5c8f890e220ba657fb8dad2af42a5e81da0b9c122b52cb6"
   }
  }
 },
 "nbformat": 4,
 "nbformat_minor": 2
}
