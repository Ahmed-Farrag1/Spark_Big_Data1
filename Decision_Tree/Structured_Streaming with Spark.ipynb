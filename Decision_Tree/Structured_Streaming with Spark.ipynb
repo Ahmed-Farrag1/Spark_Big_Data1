{
 "cells": [
  {
   "cell_type": "code",
   "execution_count": null,
   "metadata": {},
   "outputs": [],
   "source": []
  }
 ],
 "metadata": {
  "kernelspec": {
   "display_name": "Python 3.9.6 64-bit (microsoft store)",
   "language": "python",
   "name": "python3"
  },
  "language_info": {
   "name": "python",
   "version": "3.9.6"
  },
  "orig_nbformat": 4,
  "vscode": {
   "interpreter": {
    "hash": "bfecb14731bbe8f1f11884de35213655c02bb76927514ea00d9143e5b9a0a10a"
   }
  }
 },
 "nbformat": 4,
 "nbformat_minor": 2
}
