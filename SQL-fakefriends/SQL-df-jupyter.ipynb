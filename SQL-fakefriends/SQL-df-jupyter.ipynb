{
 "cells": [
  {
   "cell_type": "code",
   "execution_count": 1,
   "metadata": {},
   "outputs": [],
   "source": [
    "import pyspark\n",
    "from pyspark.sql import SparkSession\n",
    "from pyspark.sql import functions as func\n"
   ]
  },
  {
   "cell_type": "code",
   "execution_count": 2,
   "metadata": {},
   "outputs": [],
   "source": [
    "spark=SparkSession.builder.master(\"local\").appName(\"sql_df\").getOrCreate()\n",
    "spark.conf.set(\"spark.sql.repl.eagerEval.enabled\", True) # Property used to format output tables better\n",
    "read_csv=spark.read.csv(r\"C:\\Spark Course\\SQL-fakefriends\\fakefriends.csv\",header=False,inferSchema=\"true\")\n",
    "read_csv = read_csv.withColumnRenamed(\"_c0\", \"id\")\n",
    "read_csv = read_csv.withColumnRenamed(\"_c1\", \"name\")\n",
    "read_csv = read_csv.withColumnRenamed(\"_c2\", \"age\")\n",
    "read_csv = read_csv.withColumnRenamed(\"_c3\", \"friends-num\")"
   ]
  },
  {
   "cell_type": "code",
   "execution_count": 3,
   "metadata": {},
   "outputs": [
    {
     "data": {
      "text/html": [
       "<table border='1'>\n",
       "<tr><th>id</th><th>name</th><th>age</th><th>friends-num</th></tr>\n",
       "<tr><td>0</td><td>Will</td><td>33</td><td>385</td></tr>\n",
       "<tr><td>1</td><td>Jean-Luc</td><td>26</td><td>2</td></tr>\n",
       "<tr><td>2</td><td>Hugh</td><td>55</td><td>221</td></tr>\n",
       "<tr><td>3</td><td>Deanna</td><td>40</td><td>465</td></tr>\n",
       "<tr><td>4</td><td>Quark</td><td>68</td><td>21</td></tr>\n",
       "<tr><td>5</td><td>Weyoun</td><td>59</td><td>318</td></tr>\n",
       "<tr><td>6</td><td>Gowron</td><td>37</td><td>220</td></tr>\n",
       "<tr><td>7</td><td>Will</td><td>54</td><td>307</td></tr>\n",
       "<tr><td>8</td><td>Jadzia</td><td>38</td><td>380</td></tr>\n",
       "<tr><td>9</td><td>Hugh</td><td>27</td><td>181</td></tr>\n",
       "<tr><td>10</td><td>Odo</td><td>53</td><td>191</td></tr>\n",
       "<tr><td>11</td><td>Ben</td><td>57</td><td>372</td></tr>\n",
       "<tr><td>12</td><td>Keiko</td><td>54</td><td>253</td></tr>\n",
       "<tr><td>13</td><td>Jean-Luc</td><td>56</td><td>444</td></tr>\n",
       "<tr><td>14</td><td>Hugh</td><td>43</td><td>49</td></tr>\n",
       "<tr><td>15</td><td>Rom</td><td>36</td><td>49</td></tr>\n",
       "<tr><td>16</td><td>Weyoun</td><td>22</td><td>323</td></tr>\n",
       "<tr><td>17</td><td>Odo</td><td>35</td><td>13</td></tr>\n",
       "<tr><td>18</td><td>Jean-Luc</td><td>45</td><td>455</td></tr>\n",
       "<tr><td>19</td><td>Geordi</td><td>60</td><td>246</td></tr>\n",
       "</table>\n",
       "only showing top 20 rows\n"
      ],
      "text/plain": [
       "+---+--------+---+-----------+\n",
       "| id|    name|age|friends-num|\n",
       "+---+--------+---+-----------+\n",
       "|  0|    Will| 33|        385|\n",
       "|  1|Jean-Luc| 26|          2|\n",
       "|  2|    Hugh| 55|        221|\n",
       "|  3|  Deanna| 40|        465|\n",
       "|  4|   Quark| 68|         21|\n",
       "|  5|  Weyoun| 59|        318|\n",
       "|  6|  Gowron| 37|        220|\n",
       "|  7|    Will| 54|        307|\n",
       "|  8|  Jadzia| 38|        380|\n",
       "|  9|    Hugh| 27|        181|\n",
       "| 10|     Odo| 53|        191|\n",
       "| 11|     Ben| 57|        372|\n",
       "| 12|   Keiko| 54|        253|\n",
       "| 13|Jean-Luc| 56|        444|\n",
       "| 14|    Hugh| 43|         49|\n",
       "| 15|     Rom| 36|         49|\n",
       "| 16|  Weyoun| 22|        323|\n",
       "| 17|     Odo| 35|         13|\n",
       "| 18|Jean-Luc| 45|        455|\n",
       "| 19|  Geordi| 60|        246|\n",
       "+---+--------+---+-----------+\n",
       "only showing top 20 rows"
      ]
     },
     "execution_count": 3,
     "metadata": {},
     "output_type": "execute_result"
    }
   ],
   "source": [
    "read_csv"
   ]
  },
  {
   "cell_type": "code",
   "execution_count": 4,
   "metadata": {},
   "outputs": [
    {
     "name": "stdout",
     "output_type": "stream",
     "text": [
      "root\n",
      " |-- id: integer (nullable = true)\n",
      " |-- name: string (nullable = true)\n",
      " |-- age: integer (nullable = true)\n",
      " |-- friends-num: integer (nullable = true)\n",
      "\n"
     ]
    }
   ],
   "source": [
    "read_csv.createOrReplaceTempView(\"table1\")\n",
    "query1=spark.sql(\"select * from table1 where age<=19 and age>=13 \")\n",
    "query1.printSchema()"
   ]
  },
  {
   "cell_type": "code",
   "execution_count": 5,
   "metadata": {},
   "outputs": [
    {
     "name": "stdout",
     "output_type": "stream",
     "text": [
      "+---+-------+---+-----------+\n",
      "| id|   name|age|friends-num|\n",
      "+---+-------+---+-----------+\n",
      "| 21|  Miles| 19|        268|\n",
      "| 52|Beverly| 19|        269|\n",
      "| 54|  Brunt| 19|          5|\n",
      "|106|Beverly| 18|        499|\n",
      "|115|  Dukat| 18|        397|\n",
      "|133|  Quark| 19|        265|\n",
      "|136|   Will| 19|        335|\n",
      "|225|   Elim| 19|        106|\n",
      "|304|   Will| 19|        404|\n",
      "|341|   Data| 18|        326|\n",
      "|366|  Keiko| 19|        119|\n",
      "|373|  Quark| 19|        272|\n",
      "|377|Beverly| 18|        418|\n",
      "|404| Kasidy| 18|         24|\n",
      "|409|    Nog| 19|        267|\n",
      "|439|   Data| 18|        417|\n",
      "|444|  Keiko| 18|        472|\n",
      "|492|  Dukat| 19|         36|\n",
      "|494| Kasidy| 18|        194|\n",
      "+---+-------+---+-----------+\n",
      "\n"
     ]
    }
   ],
   "source": [
    "query1.show()"
   ]
  },
  {
   "cell_type": "code",
   "execution_count": 6,
   "metadata": {},
   "outputs": [
    {
     "name": "stdout",
     "output_type": "stream",
     "text": [
      "+---+\n",
      "|age|\n",
      "+---+\n",
      "| 33|\n",
      "| 26|\n",
      "| 55|\n",
      "| 40|\n",
      "| 68|\n",
      "| 59|\n",
      "| 37|\n",
      "| 54|\n",
      "| 38|\n",
      "| 27|\n",
      "| 53|\n",
      "| 57|\n",
      "| 54|\n",
      "| 56|\n",
      "| 43|\n",
      "| 36|\n",
      "| 22|\n",
      "| 35|\n",
      "| 45|\n",
      "| 60|\n",
      "+---+\n",
      "only showing top 20 rows\n",
      "\n"
     ]
    }
   ],
   "source": [
    "read_csv.select(\"age\").show()\n"
   ]
  },
  {
   "cell_type": "code",
   "execution_count": 7,
   "metadata": {},
   "outputs": [
    {
     "name": "stdout",
     "output_type": "stream",
     "text": [
      "+---+-------+---+-----------+\n",
      "| id|   name|age|friends-num|\n",
      "+---+-------+---+-----------+\n",
      "|106|Beverly| 18|        499|\n",
      "|115|  Dukat| 18|        397|\n",
      "|341|   Data| 18|        326|\n",
      "|377|Beverly| 18|        418|\n",
      "|404| Kasidy| 18|         24|\n",
      "|439|   Data| 18|        417|\n",
      "|444|  Keiko| 18|        472|\n",
      "|494| Kasidy| 18|        194|\n",
      "+---+-------+---+-----------+\n",
      "\n"
     ]
    }
   ],
   "source": [
    "read_csv.filter(read_csv.age<19).show()"
   ]
  },
  {
   "cell_type": "code",
   "execution_count": 8,
   "metadata": {},
   "outputs": [
    {
     "name": "stdout",
     "output_type": "stream",
     "text": [
      "+--------+\n",
      "|    name|\n",
      "+--------+\n",
      "|    Will|\n",
      "|Jean-Luc|\n",
      "|    Hugh|\n",
      "|  Deanna|\n",
      "|   Quark|\n",
      "|  Weyoun|\n",
      "|  Gowron|\n",
      "|    Will|\n",
      "|  Jadzia|\n",
      "|    Hugh|\n",
      "|     Odo|\n",
      "|     Ben|\n",
      "|   Keiko|\n",
      "|Jean-Luc|\n",
      "|    Hugh|\n",
      "|     Rom|\n",
      "|  Weyoun|\n",
      "|     Odo|\n",
      "|Jean-Luc|\n",
      "|  Geordi|\n",
      "+--------+\n",
      "only showing top 20 rows\n",
      "\n"
     ]
    }
   ],
   "source": [
    "read_csv.select(\"name\").show()"
   ]
  },
  {
   "cell_type": "code",
   "execution_count": 9,
   "metadata": {},
   "outputs": [
    {
     "name": "stdout",
     "output_type": "stream",
     "text": [
      "+---+-----+\n",
      "|age|count|\n",
      "+---+-----+\n",
      "| 31|    8|\n",
      "| 65|    5|\n",
      "| 53|    7|\n",
      "| 34|    6|\n",
      "| 28|   10|\n",
      "| 26|   17|\n",
      "| 27|    8|\n",
      "| 44|   12|\n",
      "| 22|    7|\n",
      "| 47|    9|\n",
      "| 52|   11|\n",
      "| 40|   17|\n",
      "| 20|    5|\n",
      "| 57|   12|\n",
      "| 54|   13|\n",
      "| 48|   10|\n",
      "| 19|   11|\n",
      "| 64|   12|\n",
      "| 41|    9|\n",
      "| 43|    7|\n",
      "+---+-----+\n",
      "only showing top 20 rows\n",
      "\n"
     ]
    }
   ],
   "source": [
    "read_csv.groupBy(\"age\").count().show()"
   ]
  },
  {
   "cell_type": "code",
   "execution_count": 10,
   "metadata": {},
   "outputs": [
    {
     "name": "stdout",
     "output_type": "stream",
     "text": [
      "+---+------------------+\n",
      "|age|  avg(friends-num)|\n",
      "+---+------------------+\n",
      "| 18|           343.375|\n",
      "| 19|213.27272727272728|\n",
      "| 20|             165.0|\n",
      "| 21|           350.875|\n",
      "| 22|206.42857142857142|\n",
      "| 23|             246.3|\n",
      "| 24|             233.8|\n",
      "| 25|197.45454545454547|\n",
      "| 26|242.05882352941177|\n",
      "| 27|           228.125|\n",
      "| 28|             209.1|\n",
      "| 29|215.91666666666666|\n",
      "| 30| 235.8181818181818|\n",
      "| 31|            267.25|\n",
      "| 32| 207.9090909090909|\n",
      "| 33| 325.3333333333333|\n",
      "| 34|             245.5|\n",
      "| 35|           211.625|\n",
      "| 36|             246.6|\n",
      "| 37|249.33333333333334|\n",
      "+---+------------------+\n",
      "only showing top 20 rows\n",
      "\n"
     ]
    }
   ],
   "source": [
    "read_csv.groupBy(\"age\").avg(\"friends-num\").sort(\"age\").show()"
   ]
  },
  {
   "cell_type": "code",
   "execution_count": 11,
   "metadata": {},
   "outputs": [
    {
     "name": "stdout",
     "output_type": "stream",
     "text": [
      "+---+------+\n",
      "|age|avg123|\n",
      "+---+------+\n",
      "| 18|343.38|\n",
      "| 19|213.27|\n",
      "| 20| 165.0|\n",
      "| 21|350.88|\n",
      "| 22|206.43|\n",
      "| 23| 246.3|\n",
      "| 24| 233.8|\n",
      "| 25|197.45|\n",
      "| 26|242.06|\n",
      "| 27|228.13|\n",
      "| 28| 209.1|\n",
      "| 29|215.92|\n",
      "| 30|235.82|\n",
      "| 31|267.25|\n",
      "| 32|207.91|\n",
      "| 33|325.33|\n",
      "| 34| 245.5|\n",
      "| 35|211.63|\n",
      "| 36| 246.6|\n",
      "| 37|249.33|\n",
      "+---+------+\n",
      "only showing top 20 rows\n",
      "\n"
     ]
    }
   ],
   "source": [
    "read_csv.groupBy(\"age\").agg(func.round(func.avg(\"friends-num\"),2).alias(\"avg123\")).sort(\"age\").show()"
   ]
  },
  {
   "cell_type": "code",
   "execution_count": 12,
   "metadata": {},
   "outputs": [],
   "source": [
    "spark.stop()"
   ]
  }
 ],
 "metadata": {
  "kernelspec": {
   "display_name": "Python 3.9.6 64-bit (microsoft store)",
   "language": "python",
   "name": "python3"
  },
  "language_info": {
   "codemirror_mode": {
    "name": "ipython",
    "version": 3
   },
   "file_extension": ".py",
   "mimetype": "text/x-python",
   "name": "python",
   "nbconvert_exporter": "python",
   "pygments_lexer": "ipython3",
   "version": "3.9.6"
  },
  "orig_nbformat": 4,
  "vscode": {
   "interpreter": {
    "hash": "bfecb14731bbe8f1f11884de35213655c02bb76927514ea00d9143e5b9a0a10a"
   }
  }
 },
 "nbformat": 4,
 "nbformat_minor": 2
}
